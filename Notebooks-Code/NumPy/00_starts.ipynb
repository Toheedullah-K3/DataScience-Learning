{
 "cells": [
  {
   "cell_type": "markdown",
   "id": "26a089da",
   "metadata": {},
   "source": [
    "### 1. Import numpy as np and see the version\n"
   ]
  },
  {
   "cell_type": "code",
   "execution_count": 6,
   "id": "0ccd05e9",
   "metadata": {},
   "outputs": [
    {
     "name": "stdout",
     "output_type": "stream",
     "text": [
      "1.24.3\n"
     ]
    }
   ],
   "source": [
    "import numpy as np\n",
    "print(np.__version__)"
   ]
  },
  {
   "cell_type": "markdown",
   "id": "0abfbb8a",
   "metadata": {},
   "source": [
    "### 2. How to create a 1D array?\n",
    "\n",
    "Q. Create a 1D array of numbers from 0 to 9\n",
    "\n"
   ]
  },
  {
   "cell_type": "code",
   "execution_count": 7,
   "id": "01982277",
   "metadata": {},
   "outputs": [
    {
     "name": "stdout",
     "output_type": "stream",
     "text": [
      "[0 1 2 3 4 5 6 7 8 9]\n"
     ]
    }
   ],
   "source": [
    "arr = np.arange(0,10)\n",
    "print(arr)"
   ]
  },
  {
   "cell_type": "markdown",
   "id": "de40f1be",
   "metadata": {},
   "source": [
    "### 3. How to create a boolean array?\n",
    "Q. Create a 3×3 numpy array of all True’s\n"
   ]
  },
  {
   "cell_type": "code",
   "execution_count": 8,
   "id": "f74dd531",
   "metadata": {},
   "outputs": [
    {
     "name": "stdout",
     "output_type": "stream",
     "text": [
      "[[ True  True  True]\n",
      " [ True  True  True]\n",
      " [ True  True  True]]\n"
     ]
    }
   ],
   "source": [
    "true_arr = np.full( (3,3), True)\n",
    "print(true_arr)"
   ]
  },
  {
   "cell_type": "markdown",
   "id": "4b563f12",
   "metadata": {},
   "source": [
    "### 4. How to extract items that satisfy a given condition from 1D array?\n",
    "Q. Extract all odd numbers from arr\n",
    "\n"
   ]
  },
  {
   "cell_type": "code",
   "execution_count": 11,
   "id": "e3a9ee38",
   "metadata": {},
   "outputs": [
    {
     "name": "stdout",
     "output_type": "stream",
     "text": [
      "[1 3 5 7 9]\n"
     ]
    }
   ],
   "source": [
    "arr = np.array([0, 1, 2, 3, 4, 5, 6, 7, 8, 9])\n",
    "\n",
    "odd_arr = np.extract( (arr % 2 == 1), arr)\n",
    "print(odd_arr)"
   ]
  },
  {
   "cell_type": "markdown",
   "id": "139bf062",
   "metadata": {},
   "source": [
    "### 5. How to replace items that satisfy a condition with another value in numpy array?\n",
    "Q. Replace all odd numbers in arr with -1\n",
    "\n"
   ]
  },
  {
   "cell_type": "code",
   "execution_count": 18,
   "id": "65885bdb",
   "metadata": {},
   "outputs": [
    {
     "name": "stdout",
     "output_type": "stream",
     "text": [
      "[ 0 -1  2 -1  4 -1  6 -1  8 -1]\n"
     ]
    }
   ],
   "source": [
    "arr = np.array([0, 1, 2, 3, 4, 5, 6, 7, 8, 9])\n",
    "\n",
    "odd_neg_arr = np.copyto(arr, -1, where= arr % 2 == 1)\n",
    "print(arr)"
   ]
  },
  {
   "cell_type": "markdown",
   "id": "a3dc7b30",
   "metadata": {},
   "source": [
    "### 6. How to replace items that satisfy a condition without affecting the original array?\n",
    "Q. Replace all odd numbers in arr with -1 without changing arr"
   ]
  },
  {
   "cell_type": "code",
   "execution_count": 21,
   "id": "33a5b954",
   "metadata": {},
   "outputs": [
    {
     "name": "stdout",
     "output_type": "stream",
     "text": [
      "Orignal Array -->  [0 1 2 3 4 5 6 7 8 9] \n",
      "\n",
      "New Array -->  [ 0 -1  2 -1  4 -1  6 -1  8 -1]\n"
     ]
    }
   ],
   "source": [
    "arr = np.array([0, 1, 2, 3, 4, 5, 6, 7, 8, 9])\n",
    "\n",
    "new_arr = np.where(arr % 2 == 1, -1, arr)\n",
    "\n",
    "print('Orignal Array --> ', arr , '\\n')\n",
    "print('New Array --> ', new_arr)\n"
   ]
  },
  {
   "cell_type": "markdown",
   "id": "0767c9ba",
   "metadata": {},
   "source": [
    "### 7. How to reshape an array?\n",
    "Q. Convert a 1D array to a 2D array with 2 rows"
   ]
  },
  {
   "cell_type": "code",
   "execution_count": 26,
   "id": "d27b6685",
   "metadata": {},
   "outputs": [
    {
     "name": "stdout",
     "output_type": "stream",
     "text": [
      "[[0 1 2 3 4]\n",
      " [5 6 7 8 9]]\n"
     ]
    }
   ],
   "source": [
    "arr = np.arange(10)\n",
    "\n",
    "two_dim_arr = arr.reshape(2,-1)  # Setting to -1 automatically decides the number of cols\n",
    "print(two_dim_arr)"
   ]
  },
  {
   "cell_type": "markdown",
   "id": "0b57ef02",
   "metadata": {},
   "source": [
    "### 8. How to stack two arrays vertically?\n",
    "Q. Stack arrays a and b vertically"
   ]
  },
  {
   "cell_type": "code",
   "execution_count": 28,
   "id": "319eb0c7",
   "metadata": {},
   "outputs": [
    {
     "name": "stdout",
     "output_type": "stream",
     "text": [
      "[[0 1 2]\n",
      " [3 4 5]\n",
      " [3 3 3]\n",
      " [3 3 3]]\n"
     ]
    }
   ],
   "source": [
    "a = np.arange(6).reshape(2, -1)\n",
    "b = np.repeat(3, 6).reshape(2, -1)\n",
    "\n",
    "stacked_arr = np.vstack([a, b])\n",
    "print(stacked_arr)"
   ]
  },
  {
   "cell_type": "markdown",
   "id": "e5c95602",
   "metadata": {},
   "source": [
    "### 9. How to stack two arrays horizontally?\n",
    "Q. Stack the arrays a and b horizontally."
   ]
  },
  {
   "cell_type": "code",
   "execution_count": 29,
   "id": "15988d29",
   "metadata": {},
   "outputs": [
    {
     "name": "stdout",
     "output_type": "stream",
     "text": [
      "[[0 1 2 3 3 3]\n",
      " [3 4 5 3 3 3]]\n"
     ]
    }
   ],
   "source": [
    "a = np.arange(6).reshape(2, -1)\n",
    "b = np.repeat(3, 6).reshape(2, -1)\n",
    "\n",
    "horizontal_arr = np.hstack([a,b])\n",
    "print(horizontal_arr)"
   ]
  },
  {
   "cell_type": "code",
   "execution_count": null,
   "id": "89749f4f",
   "metadata": {},
   "outputs": [],
   "source": []
  }
 ],
 "metadata": {
  "kernelspec": {
   "display_name": "Python 3 (ipykernel)",
   "language": "python",
   "name": "python3"
  },
  "language_info": {
   "codemirror_mode": {
    "name": "ipython",
    "version": 3
   },
   "file_extension": ".py",
   "mimetype": "text/x-python",
   "name": "python",
   "nbconvert_exporter": "python",
   "pygments_lexer": "ipython3",
   "version": "3.11.3"
  }
 },
 "nbformat": 4,
 "nbformat_minor": 5
}
