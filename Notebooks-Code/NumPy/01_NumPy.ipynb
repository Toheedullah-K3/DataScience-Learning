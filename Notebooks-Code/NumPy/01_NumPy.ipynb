{
 "cells": [
  {
   "cell_type": "markdown",
   "id": "d0bde39a",
   "metadata": {},
   "source": [
    "# NumPY Learning Started ( 30 July - 2023 )"
   ]
  },
  {
   "cell_type": "markdown",
   "id": "a1fc2da1",
   "metadata": {},
   "source": [
    "## All Functions \n",
    "- arange( )\n",
    "- zeros( )\n",
    "- ones( )"
   ]
  },
  {
   "cell_type": "code",
   "execution_count": 1,
   "id": "2c07d4cb",
   "metadata": {},
   "outputs": [],
   "source": [
    "import numpy as np"
   ]
  },
  {
   "cell_type": "code",
   "execution_count": 4,
   "id": "e5c10c78",
   "metadata": {},
   "outputs": [
    {
     "data": {
      "text/plain": [
       "array([0, 1, 2, 3, 4, 5, 6, 7, 8, 9])"
      ]
     },
     "execution_count": 4,
     "metadata": {},
     "output_type": "execute_result"
    }
   ],
   "source": [
    "arr = np.arange(10)\n",
    "arr"
   ]
  },
  {
   "cell_type": "code",
   "execution_count": 8,
   "id": "cce9e8b0",
   "metadata": {},
   "outputs": [
    {
     "data": {
      "text/plain": [
       "array([0., 0., 0.])"
      ]
     },
     "execution_count": 8,
     "metadata": {},
     "output_type": "execute_result"
    }
   ],
   "source": [
    "arr_zeros = np.zeros(3)\n",
    "arr_zeros"
   ]
  },
  {
   "cell_type": "code",
   "execution_count": 6,
   "id": "5b57bef3",
   "metadata": {},
   "outputs": [
    {
     "data": {
      "text/plain": [
       "array([1., 1., 1.])"
      ]
     },
     "execution_count": 6,
     "metadata": {},
     "output_type": "execute_result"
    }
   ],
   "source": [
    "arr_ones = np.ones(3)\n",
    "arr_ones"
   ]
  },
  {
   "cell_type": "markdown",
   "id": "6a4da5ee",
   "metadata": {},
   "source": [
    "# Random Module\n",
    "- rand( )  -  random numbers b/w 0\n",
    "- randn( )  -  random ( + & - ) numbers around 0\n",
    "- randf( )   -  random float number b/w 0-1\n",
    "- randint( )  -   random int b/w two points"
   ]
  },
  {
   "cell_type": "code",
   "execution_count": 10,
   "id": "6eb7d559",
   "metadata": {},
   "outputs": [
    {
     "data": {
      "text/plain": [
       "array([0.11871951, 0.94875515, 0.09527668, 0.50767621, 0.68059863])"
      ]
     },
     "execution_count": 10,
     "metadata": {},
     "output_type": "execute_result"
    }
   ],
   "source": [
    "rand = np.random.rand(5)\n",
    "rand"
   ]
  },
  {
   "cell_type": "code",
   "execution_count": 11,
   "id": "c3a18b6b",
   "metadata": {},
   "outputs": [
    {
     "data": {
      "text/plain": [
       "array([ 0.61633152, -0.5008657 ,  0.5326775 ,  0.92195412, -0.59143381])"
      ]
     },
     "execution_count": 11,
     "metadata": {},
     "output_type": "execute_result"
    }
   ],
   "source": [
    "randn = np.random.randn(5)\n",
    "randn"
   ]
  },
  {
   "cell_type": "code",
   "execution_count": 13,
   "id": "e05ad553",
   "metadata": {},
   "outputs": [
    {
     "data": {
      "text/plain": [
       "array([0.27762641, 0.16639741, 0.74708035, 0.4726393 , 0.7166261 ])"
      ]
     },
     "execution_count": 13,
     "metadata": {},
     "output_type": "execute_result"
    }
   ],
   "source": [
    "ranf = np.random.ranf(5)\n",
    "ranf"
   ]
  },
  {
   "cell_type": "code",
   "execution_count": 15,
   "id": "9c63b958",
   "metadata": {},
   "outputs": [
    {
     "data": {
      "text/plain": [
       "array([4, 3, 2, 3, 2])"
      ]
     },
     "execution_count": 15,
     "metadata": {},
     "output_type": "execute_result"
    }
   ],
   "source": [
    "randint = np.random.randint(1,5,5)\n",
    "randint"
   ]
  },
  {
   "cell_type": "markdown",
   "id": "e9e5c120",
   "metadata": {},
   "source": [
    "## Data Type\n",
    "\n",
    "- .dtype ( attribute ) can tell the Data Type of an array\n",
    "- you can also change the data type , like converting floats to integers\n",
    "- or you can change datatype by functions method np.float( arr ) or np.int_( arr )"
   ]
  },
  {
   "cell_type": "code",
   "execution_count": 19,
   "id": "ff658777",
   "metadata": {},
   "outputs": [
    {
     "name": "stdout",
     "output_type": "stream",
     "text": [
      "[1 6 9] Data Type  int32\n"
     ]
    }
   ],
   "source": [
    "x = [1.0, 6.7, 9.8]\n",
    "xlist = np.array(x, dtype = \"int32\")\n",
    "\n",
    "print(xlist, \"Data Type \" , xlist.dtype)"
   ]
  },
  {
   "cell_type": "markdown",
   "id": "e6f88200",
   "metadata": {},
   "source": [
    "## Arithmatic Operations\n",
    "\n",
    "- np.add(a, b)\n",
    "- np.subtract()\n",
    "- np.multiply()\n",
    "- np.divide()\n",
    "- np.mod()\n",
    "- np.power()\n",
    "- np.reciprocal()"
   ]
  },
  {
   "cell_type": "code",
   "execution_count": 23,
   "id": "53c0453c",
   "metadata": {},
   "outputs": [
    {
     "name": "stdout",
     "output_type": "stream",
     "text": [
      "[ 4  4  9 13]\n",
      "[ 3  4 18 36]\n"
     ]
    }
   ],
   "source": [
    "arr1 = [1,2,3,4]\n",
    "arr2 = [3,2,6,9]\n",
    "\n",
    "add_arr = np.add(arr1, arr2)\n",
    "mult_arr = np.multiply(arr1, arr2)\n",
    "\n",
    "print(add_arr)\n",
    "print(mult_arr)\n"
   ]
  },
  {
   "cell_type": "markdown",
   "id": "cb858cfc",
   "metadata": {},
   "source": [
    "## Arithmatic Functions\n",
    "\n",
    "- np.min()\n",
    "- np.max()\n",
    "- np.argmin() & np.argmax()  ,,,  Returns the index number of Min , Max - it can also be used inside as np.min(arr1, argmin(arr1) )\n",
    "- np.sqrt()\n",
    "- np.sin()\n",
    "- np.cos()\n",
    "- np.cumsum()   ,,, cumulative sum - summation of a sequence of numbers\n"
   ]
  },
  {
   "cell_type": "code",
   "execution_count": 29,
   "id": "51596958",
   "metadata": {},
   "outputs": [
    {
     "name": "stdout",
     "output_type": "stream",
     "text": [
      "[3 4 7 9]\n",
      "[7 9]\n"
     ]
    }
   ],
   "source": [
    "arr = np.array( [ [3,4,5,7], [2,4,7,9] ] )\n",
    "\n",
    "maximum_cols_element = np.max(arr, axis= 0)    # axis = 0   -  for searching in Columns\n",
    "maximum_rows_element = np.max(arr, axis= 1)    # axis = 1   -  for searching in Rows\n",
    " \n",
    "print(maximum_cols_element)\n",
    "print(maximum_rows_element)"
   ]
  },
  {
   "cell_type": "code",
   "execution_count": 25,
   "id": "d5b3befb",
   "metadata": {},
   "outputs": [
    {
     "data": {
      "text/plain": [
       "1"
      ]
     },
     "execution_count": 25,
     "metadata": {},
     "output_type": "execute_result"
    }
   ],
   "source": [
    "arr1 = np.array([7,2,4])\n",
    "\n",
    "np.argmin(arr1)"
   ]
  },
  {
   "cell_type": "code",
   "execution_count": 30,
   "id": "13695b99",
   "metadata": {},
   "outputs": [
    {
     "data": {
      "text/plain": [
       "array([ 1,  3,  9, 13])"
      ]
     },
     "execution_count": 30,
     "metadata": {},
     "output_type": "execute_result"
    }
   ],
   "source": [
    "arr = [1,2,6,4]\n",
    "\n",
    "np.cumsum(arr)"
   ]
  },
  {
   "cell_type": "markdown",
   "id": "e338605d",
   "metadata": {},
   "source": [
    "## Shape & Reshape"
   ]
  },
  {
   "cell_type": "code",
   "execution_count": 32,
   "id": "8107aa75",
   "metadata": {},
   "outputs": [
    {
     "data": {
      "text/plain": [
       "(2, 3)"
      ]
     },
     "execution_count": 32,
     "metadata": {},
     "output_type": "execute_result"
    }
   ],
   "source": [
    "arr = np.array([ [3,2,6], [3,5,8] ])\n",
    "\n",
    "arr.shape"
   ]
  },
  {
   "cell_type": "code",
   "execution_count": 34,
   "id": "ec4c4617",
   "metadata": {},
   "outputs": [
    {
     "data": {
      "text/plain": [
       "array([[1, 6, 7],\n",
       "       [3, 6, 2]])"
      ]
     },
     "execution_count": 34,
     "metadata": {},
     "output_type": "execute_result"
    }
   ],
   "source": [
    "arr = np.array( [1,6,7,3,6,2] )\n",
    "new_arr = arr.reshape(2,3)\n",
    "\n",
    "new_arr"
   ]
  },
  {
   "cell_type": "code",
   "execution_count": 36,
   "id": "5e0bcf13",
   "metadata": {},
   "outputs": [
    {
     "data": {
      "text/plain": [
       "array([1, 6, 7, 3, 6, 2])"
      ]
     },
     "execution_count": 36,
     "metadata": {},
     "output_type": "execute_result"
    }
   ],
   "source": [
    "# converts n dimensional array to 1 dimension\n",
    "\n",
    "row_arr = new_arr.reshape(-1)   # Simply pass ( -1 )\n",
    "row_arr"
   ]
  },
  {
   "cell_type": "markdown",
   "id": "58812cd3",
   "metadata": {},
   "source": [
    "## Broadcasting Rule"
   ]
  },
  {
   "cell_type": "code",
   "execution_count": null,
   "id": "6afeb664",
   "metadata": {},
   "outputs": [],
   "source": []
  }
 ],
 "metadata": {
  "kernelspec": {
   "display_name": "Python 3 (ipykernel)",
   "language": "python",
   "name": "python3"
  },
  "language_info": {
   "codemirror_mode": {
    "name": "ipython",
    "version": 3
   },
   "file_extension": ".py",
   "mimetype": "text/x-python",
   "name": "python",
   "nbconvert_exporter": "python",
   "pygments_lexer": "ipython3",
   "version": "3.11.3"
  }
 },
 "nbformat": 4,
 "nbformat_minor": 5
}
